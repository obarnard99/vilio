{
 "cells": [
  {
   "cell_type": "markdown",
   "id": "25e24aa2",
   "metadata": {},
   "source": [
    "## Imports"
   ]
  },
  {
   "cell_type": "code",
   "execution_count": 4,
   "id": "102dfb52",
   "metadata": {},
   "outputs": [],
   "source": [
    "import os\n",
    "import numpy as np\n",
    "import pandas as pd\n",
    "from tqdm import tqdm\n",
    "from sklearn.metrics import roc_auc_score, roc_curve"
   ]
  },
  {
   "cell_type": "markdown",
   "id": "0a0a2227",
   "metadata": {},
   "source": [
    "## Utils"
   ]
  },
  {
   "cell_type": "code",
   "execution_count": 5,
   "id": "35835981",
   "metadata": {},
   "outputs": [],
   "source": [
    "def average(data, weights=None):\n",
    "    N = data.shape[1]\n",
    "    if weights is None:\n",
    "        weights = [1/N] * N\n",
    "    elif np.sum(weights) != 1.:\n",
    "        weights = weights / np.sum(weights)\n",
    "    \n",
    "    # Compute weighted avg\n",
    "    return data.apply(lambda row: row.multiply(weights).sum(), axis=1)"
   ]
  },
  {
   "cell_type": "markdown",
   "id": "4306f57a",
   "metadata": {},
   "source": [
    "## Ground Truth"
   ]
  },
  {
   "cell_type": "code",
   "execution_count": 13,
   "id": "e180dd4a",
   "metadata": {},
   "outputs": [],
   "source": [
    "gt_path = 'C:\\\\Users\\\\obarn\\\\Projects\\\\F-MT126-1\\\\vilio\\\\data\\\\features\\\\annotations\\\\gt'\n",
    "gt_dev = pd.read_json(os.path.join(gt_path, 'dev_all.jsonl'), lines=True)\n",
    "gt_ts = pd.read_json(os.path.join(gt_path, 'test_seen.jsonl'), lines=True)\n",
    "gt_tu = pd.read_json(os.path.join(gt_path, 'test_unseen.jsonl'), lines=True)\n",
    "gt_test = gt_ts.append(gt_tu)"
   ]
  },
  {
   "cell_type": "markdown",
   "id": "f3a963a0",
   "metadata": {},
   "source": [
    "## Load V2 Data"
   ]
  },
  {
   "cell_type": "code",
   "execution_count": 10,
   "id": "b5f082cc",
   "metadata": {},
   "outputs": [],
   "source": [
    "paths = ['C:\\\\Users\\\\obarn\\\\Projects\\\\F-MT126-1\\\\vilio\\\\data\\\\outputs\\\\v2\\\\98',\n",
    "        'C:\\\\Users\\\\obarn\\\\Projects\\\\F-MT126-1\\\\vilio\\\\data\\\\outputs\\\\v2\\\\43']"
   ]
  },
  {
   "cell_type": "code",
   "execution_count": 11,
   "id": "b360fae3",
   "metadata": {},
   "outputs": [
    {
     "name": "stderr",
     "output_type": "stream",
     "text": [
      "100%|██████████| 2/2 [00:01<00:00,  1.04it/s]\n"
     ]
    }
   ],
   "source": [
    "# Load data\n",
    "dev, ts, tu = {}, {}, {}\n",
    "experiments = []\n",
    "for path in tqdm(paths):\n",
    "    seed = path.split('\\\\')[-1]\n",
    "    for csv in sorted(os.listdir(path)):\n",
    "        if \".csv\" in csv and \"test_unseen\" in csv:\n",
    "            exp = csv.split('_')[0]\n",
    "            name = exp + seed\n",
    "            experiments.append(name)            \n",
    "            dev[name] = pd.read_csv(os.path.join(path, f'{exp}_dev_all.csv'))\n",
    "            dev_idx = dev[name].id.values\n",
    "            tu[name] = pd.read_csv(os.path.join(path, f'{exp}_test_unseen.csv'))\n",
    "            tu_idx = tu[name].id.values\n",
    "            ts[name] = pd.read_csv(os.path.join(path, f'{exp}_test_seen.csv'))\n",
    "            ts_idx = ts[name].id.values\n",
    "\n",
    "dev_probas = pd.DataFrame({k: v.proba.values for k, v in dev.items()})\n",
    "ts_probas = pd.DataFrame({k: v.proba.values for k, v in ts.items()})\n",
    "tu_probas = pd.DataFrame({k: v.proba.values for k, v in tu.items()})"
   ]
  },
  {
   "cell_type": "code",
   "execution_count": 12,
   "id": "f9312a13",
   "metadata": {},
   "outputs": [
    {
     "name": "stdout",
     "output_type": "stream",
     "text": [
      "Missing ['U72c43', 'U72c98']\n",
      "Missing ['U72ac43', 'U72ac98']\n",
      "Missing ['O72c43', 'O72c98']\n",
      "Missing ['O72ac43', 'O72ac98']\n",
      "Missing ['D72c43', 'D72c98']\n",
      "Missing ['D72ac43', 'D72ac98']\n",
      "Missing ['X72c43', 'X72c98']\n",
      "Missing ['X72ac43', 'X72ac98']\n"
     ]
    }
   ],
   "source": [
    "# Average over seeds\n",
    "seeds = [43, 98]\n",
    "for model in ['U', 'O', 'D', 'X']:\n",
    "    for num in [1, 5, 10, 15, 20, 36, 50, 72]:\n",
    "        for flag in ['', 'a', 'c', 'ac']:\n",
    "            try:\n",
    "                subset = dev_probas[[f'{model}{num}{flag}{seed}' for seed in seeds]]\n",
    "                mean =  average(subset)\n",
    "                dev_probas[f'{model}{num}{flag}m'] = mean\n",
    "                subset = ts_probas[[f'{model}{num}{flag}{seed}' for seed in seeds]]\n",
    "                mean =  average(subset)\n",
    "                ts_probas[f'{model}{num}{flag}m'] = mean\n",
    "                subset = tu_probas[[f'{model}{num}{flag}{seed}' for seed in seeds]]\n",
    "                mean =  average(subset)\n",
    "                tu_probas[f'{model}{num}{flag}m'] = mean\n",
    "            except:\n",
    "                print(f'Missing {[f\"{model}{num}{flag}{seed}\" for seed in seeds]}')\n",
    "test_probas = ts_probas.append(tu_probas)"
   ]
  },
  {
   "cell_type": "code",
   "execution_count": 19,
   "id": "e5199ea0",
   "metadata": {},
   "outputs": [],
   "source": [
    "for exp in test_probas:\n",
    "    if exp[-1] == 'm':\n",
    "        dev_probas[exp].to_csv(f'C:\\\\Users\\\\obarn\\\\Projects\\\\F-MT126-1\\\\vilio\\\\data\\\\outputs\\\\v2\\\\mean\\\\{exp[:-1]}_dev.csv', index=False)\n",
    "        #ts_probas[exp].to_csv(f'C:\\\\Users\\\\obarn\\\\Projects\\\\F-MT126-1\\\\vilio\\\\data\\\\outputs\\\\v2\\\\mean\\\\{exp[:-1]}_ts.csv', index=False)\n",
    "        #tu_probas[exp].to_csv(f'C:\\\\Users\\\\obarn\\\\Projects\\\\F-MT126-1\\\\vilio\\\\data\\\\outputs\\\\v2\\\\mean\\\\{exp[:-1]}_tu.csv', index=False)\n",
    "        test_probas[exp].to_csv(f'C:\\\\Users\\\\obarn\\\\Projects\\\\F-MT126-1\\\\vilio\\\\data\\\\outputs\\\\v2\\\\mean\\\\{exp[:-1]}_test.csv', index=False)"
   ]
  },
  {
   "cell_type": "markdown",
   "id": "fef69616",
   "metadata": {},
   "source": [
    "## Load V3 Data"
   ]
  },
  {
   "cell_type": "code",
   "execution_count": 30,
   "id": "ffc6cd2f",
   "metadata": {},
   "outputs": [],
   "source": [
    "paths = ['C:\\\\Users\\\\obarn\\\\Projects\\\\F-MT126-1\\\\vilio\\\\data\\\\outputs\\\\v3\\\\98',\n",
    "        'C:\\\\Users\\\\obarn\\\\Projects\\\\F-MT126-1\\\\vilio\\\\data\\\\outputs\\\\v3\\\\61',\n",
    "        'C:\\\\Users\\\\obarn\\\\Projects\\\\F-MT126-1\\\\vilio\\\\data\\\\outputs\\\\v3\\\\43']"
   ]
  },
  {
   "cell_type": "code",
   "execution_count": 31,
   "id": "32335e6a",
   "metadata": {},
   "outputs": [
    {
     "name": "stderr",
     "output_type": "stream",
     "text": [
      "100%|██████████| 3/3 [00:02<00:00,  1.40it/s]\n"
     ]
    }
   ],
   "source": [
    "# Load data\n",
    "dev2, ts2, tu2 = {}, {}, {}\n",
    "experiments2 = []\n",
    "for path in tqdm(paths):\n",
    "    seed = path.split('\\\\')[-1]\n",
    "    for csv in sorted(os.listdir(path)):\n",
    "        if \".csv\" in csv and \"test_unseen\" in csv:\n",
    "            exp = csv.split('_')[0]\n",
    "            name = exp + seed\n",
    "            experiments2.append(name)            \n",
    "            dev2[name] = pd.read_csv(os.path.join(path, f'{exp}_dev_all.csv'))\n",
    "            dev_idx2 = dev2[name].id.values\n",
    "            tu2[name] = pd.read_csv(os.path.join(path, f'{exp}_test_unseen.csv'))\n",
    "            tu_idx2 = tu2[name].id.values\n",
    "            ts2[name] = pd.read_csv(os.path.join(path, f'{exp}_test_seen.csv'))\n",
    "            ts_idx2 = ts2[name].id.values\n",
    "\n",
    "dev_probas2 = pd.DataFrame({k: v.proba.values for k, v in dev2.items()})\n",
    "ts_probas2 = pd.DataFrame({k: v.proba.values for k, v in ts2.items()})\n",
    "tu_probas2 = pd.DataFrame({k: v.proba.values for k, v in tu2.items()})"
   ]
  },
  {
   "cell_type": "code",
   "execution_count": 32,
   "id": "0b13d359",
   "metadata": {},
   "outputs": [],
   "source": [
    "# Average over seeds\n",
    "seeds = [43, 61, 98]\n",
    "for model in ['U', 'O', 'D', 'X']:\n",
    "    for num in [20]:\n",
    "        for flag in ['', 'a']:\n",
    "            try:\n",
    "                subset = dev_probas2[[f'{model}{num}{flag}{seed}' for seed in seeds]]\n",
    "                mean =  average(subset)\n",
    "                dev_probas2[f'{model}{num}{flag}m'] = mean\n",
    "                subset = ts_probas2[[f'{model}{num}{flag}{seed}' for seed in seeds]]\n",
    "                mean =  average(subset)\n",
    "                ts_probas2[f'{model}{num}{flag}m'] = mean\n",
    "                subset = tu_probas2[[f'{model}{num}{flag}{seed}' for seed in seeds]]\n",
    "                mean =  average(subset)\n",
    "                tu_probas2[f'{model}{num}{flag}m'] = mean\n",
    "            except:\n",
    "                print(f'Missing {[f\"{model}{num}{flag}{seed}\" for seed in seeds]}')\n",
    "test_probas2 = ts_probas2.append(tu_probas2)"
   ]
  },
  {
   "cell_type": "markdown",
   "id": "58a3dc9c",
   "metadata": {},
   "source": [
    "## Entities"
   ]
  },
  {
   "cell_type": "code",
   "execution_count": 33,
   "id": "b54dcd25",
   "metadata": {},
   "outputs": [],
   "source": [
    "paths = ['C:\\\\Users\\\\obarn\\\\Projects\\\\F-MT126-1\\\\vilio\\\\data\\\\outputs\\\\entity\\\\98',\n",
    "         'C:\\\\Users\\\\obarn\\\\Projects\\\\F-MT126-1\\\\vilio\\\\data\\\\outputs\\\\entity\\\\43',\n",
    "         'C:\\\\Users\\\\obarn\\\\Projects\\\\F-MT126-1\\\\vilio\\\\data\\\\outputs\\\\entity\\\\61',\n",
    "        ]"
   ]
  },
  {
   "cell_type": "code",
   "execution_count": 34,
   "id": "17477429",
   "metadata": {},
   "outputs": [
    {
     "name": "stderr",
     "output_type": "stream",
     "text": [
      "100%|██████████| 3/3 [00:00<00:00, 17.71it/s]\n"
     ]
    }
   ],
   "source": [
    "# Load data\n",
    "dev3, ts3, tu3 = {}, {}, {}\n",
    "experiments3 = []\n",
    "for path in tqdm(paths):\n",
    "    seed = path.split('\\\\')[-1]\n",
    "    for csv in sorted(os.listdir(path)):\n",
    "        if \".csv\" in csv and \"test_unseen\" in csv:\n",
    "            exp = csv.split('_')[0]\n",
    "            name = exp + seed\n",
    "            experiments3.append(name)            \n",
    "            dev3[name] = pd.read_csv(os.path.join(path, f'{exp}_dev_all.csv'))\n",
    "            dev_idx3 = dev3[name].id.values\n",
    "            tu3[name] = pd.read_csv(os.path.join(path, f'{exp}_test_unseen.csv'))\n",
    "            tu_idx3 = tu3[name].id.values\n",
    "            ts3[name] = pd.read_csv(os.path.join(path, f'{exp}_test_seen.csv'))\n",
    "            ts_idx3 = ts3[name].id.values\n",
    "\n",
    "dev_probas3 = pd.DataFrame({k: v.proba.values for k, v in dev3.items()})\n",
    "ts_probas3 = pd.DataFrame({k: v.proba.values for k, v in ts3.items()})\n",
    "tu_probas3 = pd.DataFrame({k: v.proba.values for k, v in tu3.items()})"
   ]
  },
  {
   "cell_type": "code",
   "execution_count": 35,
   "id": "dac15dae",
   "metadata": {},
   "outputs": [],
   "source": [
    "# Average over seeds\n",
    "seeds = [43, 61, 98]\n",
    "for model in ['U', 'O', 'D', 'X']:\n",
    "    for num in [20]:\n",
    "        for flag in ['', 'a']:\n",
    "            try:\n",
    "                subset = dev_probas3[[f'{model}{num}{flag}{seed}' for seed in seeds]]\n",
    "                mean =  average(subset)\n",
    "                dev_probas3[f'{model}{num}{flag}m'] = mean\n",
    "                subset = ts_probas3[[f'{model}{num}{flag}{seed}' for seed in seeds]]\n",
    "                mean =  average(subset)\n",
    "                ts_probas3[f'{model}{num}{flag}m'] = mean\n",
    "                subset = tu_probas2[[f'{model}{num}{flag}{seed}' for seed in seeds]]\n",
    "                mean =  average(subset)\n",
    "                tu_probas3[f'{model}{num}{flag}m'] = mean\n",
    "            except:\n",
    "                print(f'Missing {[f\"{model}{num}{flag}{seed}\" for seed in seeds]}')\n",
    "test_probas3 = ts_probas3.append(tu_probas2)"
   ]
  },
  {
   "cell_type": "markdown",
   "id": "7a1cea98",
   "metadata": {},
   "source": [
    "## Hypothesis Test"
   ]
  },
  {
   "cell_type": "code",
   "execution_count": 36,
   "id": "ac885596",
   "metadata": {},
   "outputs": [
    {
     "name": "stdout",
     "output_type": "stream",
     "text": [
      "0.006843125687316709\n",
      "0.0065215556598565184\n"
     ]
    }
   ],
   "source": [
    "deltas = []\n",
    "for model in ['U', 'O', 'D', 'X']:\n",
    "    for num in [20]:\n",
    "        for flag in ['', 'a']:\n",
    "            name = f'{model}{num}{flag}m'\n",
    "            if name in ('U72cm', 'U72acm', 'O72cm', 'O72acm', 'D72cm', 'D72acm', 'X72cm', 'X72acm'):\n",
    "                continue\n",
    "            deltas.append(roc_auc_score(gt_test.label, test_probas3[name]) - roc_auc_score(gt_test.label, test_probas2[name]))\n",
    "\n",
    "N = len(deltas)\n",
    "mu_hat = np.mean(deltas)\n",
    "sigma = np.std(deltas)\n",
    "sigma = np.sqrt(np.square(sigma)*(N/(N-1)))\n",
    "print(mu_hat)\n",
    "print(sigma)"
   ]
  },
  {
   "cell_type": "code",
   "execution_count": null,
   "id": "26cfc974",
   "metadata": {},
   "outputs": [],
   "source": []
  }
 ],
 "metadata": {
  "kernelspec": {
   "display_name": "PyCharm (F-MT126-1)",
   "language": "python",
   "name": "pycharm-47e98d46"
  },
  "language_info": {
   "codemirror_mode": {
    "name": "ipython",
    "version": 3
   },
   "file_extension": ".py",
   "mimetype": "text/x-python",
   "name": "python",
   "nbconvert_exporter": "python",
   "pygments_lexer": "ipython3",
   "version": "3.8.6"
  }
 },
 "nbformat": 4,
 "nbformat_minor": 5
}
