{
 "cells": [
  {
   "cell_type": "code",
   "execution_count": 15,
   "id": "turkish-practitioner",
   "metadata": {},
   "outputs": [],
   "source": [
    "import pandas as pd\n",
    "import os\n",
    "import csv\n",
    "import numpy as np\n",
    "from tqdm import tqdm"
   ]
  },
  {
   "cell_type": "code",
   "execution_count": 16,
   "id": "statutory-former",
   "metadata": {},
   "outputs": [],
   "source": [
    "data_dir = '/home/miproj/4thyr.oct2020/ojrb2/vilio/data/'\n",
    "feature_dir = os.path.join(data_dir, 'features')\n",
    "anno_dir = os.path.join(feature_dir, 'annotations')\n",
    "gt_dir = os.path.join(anno_dir, 'gt')\n",
    "img_dir = os.path.join(data_dir, 'img')"
   ]
  },
  {
   "cell_type": "code",
   "execution_count": 29,
   "id": "alert-expense",
   "metadata": {},
   "outputs": [],
   "source": [
    "train = pd.read_json(os.path.join(anno_dir, \"train.entity.jsonl\"), lines=True, orient=\"records\")\n",
    "dev = pd.read_json(os.path.join(anno_dir, \"dev_all.entity.jsonl\"), lines=True, orient=\"records\")\n",
    "test_seen = pd.read_json(os.path.join(anno_dir, \"test_seen.entity.jsonl\"), lines=True, orient=\"records\")\n",
    "test_unseen = pd.read_json(os.path.join(anno_dir, \"test_unseen.entity.jsonl\"), lines=True, orient=\"records\")\n",
    "pretrain = train.append(dev)"
   ]
  },
  {
   "cell_type": "code",
   "execution_count": 18,
   "id": "civil-degree",
   "metadata": {},
   "outputs": [],
   "source": [
    "def concat(text, entities):\n",
    "    new_text = [text, '<ENT>']\n",
    "    flattened = [item for sublist in entities for item in sublist]\n",
    "    new_text.extend(flattened)\n",
    "    return \" \".join(new_text)"
   ]
  },
  {
   "cell_type": "code",
   "execution_count": 26,
   "id": "several-crime",
   "metadata": {},
   "outputs": [],
   "source": [
    "def entity(df, name):\n",
    "    df['new_text'] = df.apply(lambda x: concat(x.text, x.partition_description), axis=1)\n",
    "    df2 = pd.DataFrame({'id': df.id, 'img': df.img, 'label': df.label, 'text': df.new_text})\n",
    "    df2.to_json(os.path.join(anno_dir, f'entity/{name}.jsonl'), orient='records', lines=True)"
   ]
  },
  {
   "cell_type": "code",
   "execution_count": 31,
   "id": "filled-comedy",
   "metadata": {},
   "outputs": [],
   "source": [
    "#entity(train, 'train')\n",
    "#entity(dev, 'dev_all')\n",
    "entity(pretrain, 'pretrain')"
   ]
  },
  {
   "cell_type": "code",
   "execution_count": 27,
   "id": "permanent-native",
   "metadata": {},
   "outputs": [],
   "source": [
    "entity(test_seen, 'test_seen')\n",
    "entity(test_unseen, 'test_unseen')"
   ]
  },
  {
   "cell_type": "code",
   "execution_count": null,
   "id": "republican-enemy",
   "metadata": {},
   "outputs": [],
   "source": []
  }
 ],
 "metadata": {
  "kernelspec": {
   "display_name": "Python 3",
   "language": "python",
   "name": "python3"
  },
  "language_info": {
   "codemirror_mode": {
    "name": "ipython",
    "version": 3
   },
   "file_extension": ".py",
   "mimetype": "text/x-python",
   "name": "python",
   "nbconvert_exporter": "python",
   "pygments_lexer": "ipython3",
   "version": "3.8.5"
  }
 },
 "nbformat": 4,
 "nbformat_minor": 5
}
